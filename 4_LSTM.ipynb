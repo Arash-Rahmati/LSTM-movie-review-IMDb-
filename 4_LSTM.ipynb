{
 "cells": [
  {
   "cell_type": "code",
   "execution_count": 3,
   "id": "9b4013e4",
   "metadata": {},
   "outputs": [],
   "source": [
    "import numpy as np\n",
    "import tensorflow as tf\n",
    "import numpy as np\n",
    "from tensorflow import keras\n",
    "from keras.preprocessing import sequence\n",
    "from keras import layers\n",
    "from keras.layers import Embedding\n",
    "import os\n",
    "import time\n",
    "from keras.preprocessing.sequence import pad_sequences\n",
    "import nltk\n",
    "from nltk.corpus import stopwords\n",
    "stop = set (stopwords.words(\"english\"))\n",
    "import pandas as pd\n",
    "import matplotlib.pyplot as plt"
   ]
  },
  {
   "cell_type": "code",
   "execution_count": 44,
   "id": "22886b20",
   "metadata": {},
   "outputs": [],
   "source": [
    "from keras.preprocessing.text import Tokenizer\n",
    "\n",
    "def remove_stopwords (text):\n",
    "    filtered_words= [word.lower() for word in text.split() \\\n",
    "                     if word.lower() not in stop]\n",
    "    return \" \".join(filtered_words)"
   ]
  },
  {
   "cell_type": "code",
   "execution_count": 5,
   "id": "a5384c0d",
   "metadata": {},
   "outputs": [
    {
     "name": "stdout",
     "output_type": "stream",
     "text": [
      "The sequences generated from text are :  [[1, 4, 1], [5, 2, 3], [6, 2], [3, 7, 1, 1, 8]]\n",
      "Number of unique words used in all data 8\n",
      "word_index  {'arash': 1, 'learning': 2, 'artificial': 3, 'rahmati': 4, 'machine': 5, 'deep': 6, 'intelligence': 7, 'arashh': 8}\n"
     ]
    }
   ],
   "source": [
    "#FOR_LEARNING\n",
    "t = Tokenizer()\n",
    "\n",
    "test_text = ['Deep Learning',\n",
    "             'Machine Learning',\n",
    "             'Data Mining ! $ % *']\n",
    "\n",
    "t.fit_on_texts(test_text)\n",
    "\n",
    "sequences = t.texts_to_sequences(test_text)\n",
    "\n",
    "print(\"The sequences generated from text are : \",sequences)\n",
    "print(\"Number of unique words used in all data\", len(t.word_counts))\n",
    "print('word_index ', t.word_index)"
   ]
  },
  {
   "cell_type": "markdown",
   "id": "07e82916",
   "metadata": {},
   "source": [
    "# READ TRAIN"
   ]
  },
  {
   "cell_type": "code",
   "execution_count": 127,
   "id": "1c10ca9e",
   "metadata": {},
   "outputs": [
    {
     "name": "stdout",
     "output_type": "stream",
     "text": [
      "It took 113.45 secs to read positive and negative train\n"
     ]
    }
   ],
   "source": [
    "path_train_positive = \\\n",
    "r\"D:\\ALL ABOUT UNIVERSITY\\KNTUmaster's\\Term2\\DL\\LMDB\\aclImdb\\train\\pos\"\n",
    "path_train_negative = \\\n",
    "r\"D:\\ALL ABOUT UNIVERSITY\\KNTUmaster's\\Term2\\DL\\LMDB\\aclImdb\\train\\neg\"\n",
    "\n",
    "\n",
    "x_train_positive=[]\n",
    "x_train_negative=[]\n",
    "\n",
    "start = time.time()\n",
    "\n",
    "os.chdir(path_train_positive)\n",
    "for file in os.listdir():\n",
    "    if file.endswith(\".txt\"):\n",
    "        file = open(f\"{path_train_positive}\\{file}\", 'r', encoding='utf8')\n",
    "        x_train_positive.append(remove_stopwords(file.read()))\n",
    "\n",
    "os.chdir(path_train_negative)\n",
    "for file in os.listdir():\n",
    "    if file.endswith(\".txt\"):\n",
    "        file = open(f\"{path_train_negative}\\{file}\", 'r', encoding='utf8')\n",
    "        x_train_negative.append(remove_stopwords(file.read()))\n",
    "        \n",
    "end = time.time()   \n",
    "print('It took', round((end-start),2),    \\\n",
    "      'secs to read positive and negative train')"
   ]
  },
  {
   "cell_type": "code",
   "execution_count": 129,
   "id": "ed5ceab1",
   "metadata": {},
   "outputs": [],
   "source": [
    "x_train = x_train_positive + x_train_negative\n",
    "y_train = [1]*12500 + [0]*12500"
   ]
  },
  {
   "cell_type": "markdown",
   "id": "01fe775c",
   "metadata": {},
   "source": [
    "# READ TEST"
   ]
  },
  {
   "cell_type": "code",
   "execution_count": 128,
   "id": "a6bf081a",
   "metadata": {},
   "outputs": [
    {
     "name": "stdout",
     "output_type": "stream",
     "text": [
      "It took 5.8 secs to read positive and negative test\n"
     ]
    }
   ],
   "source": [
    "path_test_positive = \\\n",
    "r\"D:\\ALL ABOUT UNIVERSITY\\KNTUmaster's\\Term2\\DL\\LMDB\\aclImdb\\test\\pos\"\n",
    "path_test_negative = \\\n",
    "r\"D:\\ALL ABOUT UNIVERSITY\\KNTUmaster's\\Term2\\DL\\LMDB\\aclImdb\\test\\neg\"\n",
    "\n",
    "\n",
    "x_test_positive=[]\n",
    "x_test_negative=[]\n",
    "\n",
    "start = time.time()\n",
    "\n",
    "os.chdir(path_test_positive)\n",
    "for file in os.listdir():\n",
    "    if file.endswith(\".txt\"):\n",
    "        file = open(f\"{path_test_positive}\\{file}\", 'r', encoding='utf8')\n",
    "        x_test_positive.append(remove_stopwords(file.read()))\n",
    "\n",
    "os.chdir(path_test_negative)\n",
    "for file in os.listdir():\n",
    "    if file.endswith(\".txt\"):\n",
    "        file = open(f\"{path_test_negative}\\{file}\", 'r', encoding='utf8')\n",
    "        x_test_negative.append(remove_stopwords(file.read()))\n",
    "        \n",
    "end = time.time()   \n",
    "print('It took', round((end-start),2),      \\\n",
    "      'secs to read positive and negative test')"
   ]
  },
  {
   "cell_type": "code",
   "execution_count": 131,
   "id": "3cd23282",
   "metadata": {},
   "outputs": [],
   "source": [
    "x_test = x_test_positive + x_test_negative\n",
    "y_test = [1]*12500 + [0]*12500"
   ]
  },
  {
   "cell_type": "markdown",
   "id": "73f0860e",
   "metadata": {},
   "source": [
    "# review => bag of words => id's of word"
   ]
  },
  {
   "cell_type": "code",
   "execution_count": 10,
   "id": "c7ddedf8",
   "metadata": {},
   "outputs": [
    {
     "name": "stdout",
     "output_type": "stream",
     "text": [
      "Number of unique words in All Data:  123277\n"
     ]
    }
   ],
   "source": [
    "x_full = x_train + x_test\n",
    "\n",
    "t1 = Tokenizer()\n",
    "t1.fit_on_texts(x_full)\n",
    "num_of_unique_words= len(t1.word_counts)\n",
    "print(\"Number of unique words in All Data: \", num_of_unique_words) \n",
    "#124,252 unique words =stopwords=> 123,277"
   ]
  },
  {
   "cell_type": "code",
   "execution_count": 86,
   "id": "4d0e54bc",
   "metadata": {},
   "outputs": [],
   "source": [
    "#t1.word_counts #88,071 words in train_set"
   ]
  },
  {
   "cell_type": "code",
   "execution_count": 132,
   "id": "145fd6e7",
   "metadata": {},
   "outputs": [],
   "source": [
    "tokenizer = Tokenizer (num_of_unique_words)\n",
    "tokenizer.fit_on_texts(x_train)                    "
   ]
  },
  {
   "cell_type": "code",
   "execution_count": 134,
   "id": "066eb06e",
   "metadata": {},
   "outputs": [],
   "source": [
    "x_train_sequences = tokenizer.texts_to_sequences(x_train)\n",
    "x_test_sequences = tokenizer.texts_to_sequences(x_test)"
   ]
  },
  {
   "cell_type": "code",
   "execution_count": 140,
   "id": "33c667d2",
   "metadata": {},
   "outputs": [],
   "source": [
    "for i in range (0,len(x_train_sequences)):    #change to numpy format\n",
    "    x_train_sequences[i] = np.array( x_train_sequences[i])\n",
    "    \n",
    "for i in range (0,len(x_test_sequences)):\n",
    "    x_test_sequences[i] = np.array( x_test_sequences[i])"
   ]
  },
  {
   "cell_type": "code",
   "execution_count": 141,
   "id": "eb783034",
   "metadata": {},
   "outputs": [
    {
     "name": "stdout",
     "output_type": "stream",
     "text": [
      "max length of a message:  1495\n",
      "min length of a message:  4\n",
      "avg length of a message:  132.69968\n"
     ]
    }
   ],
   "source": [
    "max, sum, min, ind=0, 0, 2000, -1\n",
    "\n",
    "for j in range (0, len(x_train)):\n",
    "    \n",
    "    sum = sum + len(x_train_sequences[j])\n",
    "    if len(x_train_sequences[j])>max: \n",
    "        max=len(x_train_sequences[j])\n",
    "    if len(x_train_sequences[j])<min: \n",
    "        min=len(x_train_sequences[j])\n",
    "        ind=j\n",
    "\n",
    "print(\"max length of a message: \", max)\n",
    "print(\"min length of a message: \", min)\n",
    "print(\"avg length of a message: \", sum/25000)"
   ]
  },
  {
   "cell_type": "code",
   "execution_count": 16,
   "id": "3d9ec361",
   "metadata": {},
   "outputs": [
    {
     "data": {
      "text/plain": [
       "13568"
      ]
     },
     "execution_count": 16,
     "metadata": {},
     "output_type": "execute_result"
    }
   ],
   "source": [
    "ind"
   ]
  },
  {
   "cell_type": "code",
   "execution_count": 17,
   "id": "e4630201",
   "metadata": {},
   "outputs": [
    {
     "data": {
      "text/plain": [
       "'movie terrible good effects.'"
      ]
     },
     "execution_count": 17,
     "metadata": {},
     "output_type": "execute_result"
    }
   ],
   "source": [
    "x_train[13568]"
   ]
  },
  {
   "cell_type": "code",
   "execution_count": 152,
   "id": "c9c4f464",
   "metadata": {},
   "outputs": [
    {
     "data": {
      "text/plain": [
       "((25000, 140), (25000, 140))"
      ]
     },
     "execution_count": 152,
     "metadata": {},
     "output_type": "execute_result"
    }
   ],
   "source": [
    "max_length= 140\n",
    "x_train_padded = pad_sequences(x_train_sequences, \\\n",
    "                maxlen=max_length, padding=\"post\", truncating=\"post\")\n",
    "x_test_padded = pad_sequences(x_test_sequences, \\\n",
    "                maxlen=max_length, padding=\"post\", truncating=\"post\")\n",
    "x_train_padded.shape, x_test_padded.shape"
   ]
  },
  {
   "cell_type": "markdown",
   "id": "50829b6c",
   "metadata": {},
   "source": [
    "# LSTM MODEL"
   ]
  },
  {
   "cell_type": "code",
   "execution_count": 163,
   "id": "518f3e4b",
   "metadata": {},
   "outputs": [
    {
     "name": "stdout",
     "output_type": "stream",
     "text": [
      "Model: \"sequential_5\"\n",
      "_________________________________________________________________\n",
      " Layer (type)                Output Shape              Param #   \n",
      "=================================================================\n",
      " embedding_36 (Embedding)    (None, 140, 32)           3944864   \n",
      "                                                                 \n",
      " lstm_5 (LSTM)               (None, 80)                36160     \n",
      "                                                                 \n",
      " dense_5 (Dense)             (None, 1)                 81        \n",
      "                                                                 \n",
      "=================================================================\n",
      "Total params: 3,981,105\n",
      "Trainable params: 3,981,105\n",
      "Non-trainable params: 0\n",
      "_________________________________________________________________\n"
     ]
    }
   ],
   "source": [
    "model = keras.models.Sequential()\n",
    "model.add(layers.Embedding(num_of_unique_words, 32, \\\n",
    "                           input_length=max_length))\n",
    "model.add(layers.LSTM(80, dropout=0.15, activation=\"tanh\"))\n",
    "model.add(layers.Dense(1, activation=\"sigmoid\"))\n",
    "          \n",
    "model.summary()"
   ]
  },
  {
   "cell_type": "code",
   "execution_count": 164,
   "id": "1a71a552",
   "metadata": {},
   "outputs": [],
   "source": [
    "loss = keras.losses.BinaryCrossentropy(from_logits=False)\n",
    "#optim = keras.optimizers.Adam(learning_rate=0.001)\n",
    "optim = keras.optimizers.Adamax(learning_rate=0.001)\n",
    "metrics = [\"accuracy\"]\n",
    "\n",
    "model.compile(loss=loss, optimizer=optim, metrics=metrics)"
   ]
  },
  {
   "cell_type": "code",
   "execution_count": 165,
   "id": "e13b2ea9",
   "metadata": {},
   "outputs": [
    {
     "name": "stdout",
     "output_type": "stream",
     "text": [
      "Epoch 1/5\n",
      "167/167 - 39s - loss: 0.6862 - accuracy: 0.5254 - val_loss: 0.6038 - val_accuracy: 0.7342 - 39s/epoch - 235ms/step\n",
      "Epoch 2/5\n",
      "167/167 - 36s - loss: 0.4514 - accuracy: 0.8046 - val_loss: 0.3977 - val_accuracy: 0.8323 - 36s/epoch - 218ms/step\n",
      "Epoch 3/5\n",
      "167/167 - 37s - loss: 0.3151 - accuracy: 0.8750 - val_loss: 0.3438 - val_accuracy: 0.8512 - 37s/epoch - 219ms/step\n",
      "Epoch 4/5\n",
      "167/167 - 36s - loss: 0.2639 - accuracy: 0.9005 - val_loss: 0.3876 - val_accuracy: 0.8505 - 36s/epoch - 218ms/step\n",
      "Epoch 5/5\n",
      "167/167 - 37s - loss: 0.2173 - accuracy: 0.9195 - val_loss: 0.3250 - val_accuracy: 0.8615 - 37s/epoch - 219ms/step\n"
     ]
    }
   ],
   "source": [
    "kee = model.fit(x_train_padded, np.array(y_train), \\\n",
    "                epochs=5, batch_size=150, \\\n",
    "                validation_data=\\\n",
    "                (x_test_padded, np.array(y_test)),verbose=2 )"
   ]
  },
  {
   "cell_type": "code",
   "execution_count": 166,
   "id": "7e9a8424",
   "metadata": {},
   "outputs": [
    {
     "data": {
      "image/png": "[encoded data removed]",
      "text/plain": [
       "<Figure size 504x360 with 1 Axes>"
      ]
     },
     "metadata": {
      "needs_background": "light"
     },
     "output_type": "display_data"
    }
   ],
   "source": [
    "pd.DataFrame ( kee.history ).plot(figsize=(7,5))\n",
    "plt.grid(True)\n",
    "plt.gca().set_ylim(0,1)\n",
    "plt.show\n",
    "plt.savefig(r\"C:\\Users\\Arash_desktop\\Desktop\\result.png\",dpi=300)"
   ]
  },
  {
   "cell_type": "markdown",
   "id": "4e0c51bd",
   "metadata": {},
   "source": [
    "# TEST ON MY COMMENTS"
   ]
  },
  {
   "cell_type": "code",
   "execution_count": 189,
   "id": "96d8a911",
   "metadata": {},
   "outputs": [],
   "source": [
    "tt = [\"To be honest, I didn't like this movie. The director didn't do well neither did the actors.\\\n",
    "It was boring and long. They could have conveyed the message in much less time\"]\n",
    "tt = [remove_stopwords(tt[0])]\n",
    "tkn=tokenizer.texts_to_sequences(tt)\n",
    "tkn_np = np.array (tkn)\n",
    "arash_padded = pad_sequences(tkn_np, maxlen=max_length, \\\n",
    "                             padding=\"post\", truncating=\"post\")"
   ]
  },
  {
   "cell_type": "code",
   "execution_count": 1,
   "id": "3e5ff3af",
   "metadata": {},
   "outputs": [
    {
     "ename": "NameError",
     "evalue": "name 'model' is not defined",
     "output_type": "error",
     "traceback": [
      "\u001b[1;31m---------------------------------------------------------------------------\u001b[0m",
      "\u001b[1;31mNameError\u001b[0m                                 Traceback (most recent call last)",
      "\u001b[1;32m<ipython-input-1-6386d8d72a1c>\u001b[0m in \u001b[0;36m<module>\u001b[1;34m\u001b[0m\n\u001b[1;32m----> 1\u001b[1;33m \u001b[0mmodel\u001b[0m\u001b[1;33m.\u001b[0m\u001b[0mpredict\u001b[0m\u001b[1;33m(\u001b[0m\u001b[0marash_padded\u001b[0m\u001b[1;33m)\u001b[0m\u001b[1;33m\u001b[0m\u001b[1;33m\u001b[0m\u001b[0m\n\u001b[0m",
      "\u001b[1;31mNameError\u001b[0m: name 'model' is not defined"
     ]
    }
   ],
   "source": [
    "model.predict(arash_padded)"
   ]
  },
  {
   "cell_type": "code",
   "execution_count": null,
   "id": "7db085a1",
   "metadata": {},
   "outputs": [],
   "source": []
  }
 ],
 "metadata": {
  "kernelspec": {
   "display_name": "Python 3",
   "language": "python",
   "name": "python3"
  },
  "language_info": {
   "codemirror_mode": {
    "name": "ipython",
    "version": 3
   },
   "file_extension": ".py",
   "mimetype": "text/x-python",
   "name": "python",
   "nbconvert_exporter": "python",
   "pygments_lexer": "ipython3",
   "version": "3.8.8"
  }
 },
 "nbformat": 4,
 "nbformat_minor": 5
}
